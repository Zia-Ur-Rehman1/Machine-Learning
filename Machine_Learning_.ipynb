{
  "nbformat": 4,
  "nbformat_minor": 0,
  "metadata": {
    "colab": {
      "name": "Machine_Learning .ipynb",
      "provenance": [],
      "collapsed_sections": [],
      "authorship_tag": "ABX9TyNuYUjujm4X3xspbMA2QplL",
      "include_colab_link": true
    },
    "kernelspec": {
      "name": "python3",
      "display_name": "Python 3"
    },
    "language_info": {
      "name": "python"
    },
    "accelerator": "GPU"
  },
  "cells": [
    {
      "cell_type": "markdown",
      "metadata": {
        "id": "view-in-github",
        "colab_type": "text"
      },
      "source": [
        "<a href=\"https://colab.research.google.com/github/Zia-Ur-Rehman1/Machine-Learning/blob/master/Machine_Learning_.ipynb\" target=\"_parent\"><img src=\"https://colab.research.google.com/assets/colab-badge.svg\" alt=\"Open In Colab\"/></a>"
      ]
    },
    {
      "cell_type": "code",
      "metadata": {
        "colab": {
          "base_uri": "https://localhost:8080/"
        },
        "id": "l5KfEqMU3Z0r",
        "outputId": "83eecf85-62d8-4712-aafe-700ad09776e2"
      },
      "source": [
        "from google.colab import drive\n",
        "drive.mount('/content/drive', force_remount=True)"
      ],
      "execution_count": 1,
      "outputs": [
        {
          "output_type": "stream",
          "text": [
            "Mounted at /content/drive\n"
          ],
          "name": "stdout"
        }
      ]
    },
    {
      "cell_type": "markdown",
      "metadata": {
        "id": "CON69hfz3c7z"
      },
      "source": [
        ""
      ]
    },
    {
      "cell_type": "code",
      "metadata": {
        "colab": {
          "base_uri": "https://localhost:8080/"
        },
        "id": "yWr3_0cW9tvb",
        "outputId": "88df3945-3d91-461b-c16c-86b219a7b410"
      },
      "source": [
        "!unzip \"/content/drive/My Drive/ML/Data.zip\"\n"
      ],
      "execution_count": 2,
      "outputs": [
        {
          "output_type": "stream",
          "text": [
            "Archive:  /content/drive/My Drive/ML/Data.zip\n",
            "replace Data/Pepper__bell___Bacterial_spot/0022d6b7-d47c-4ee2-ae9a-392a53f48647___JR_B.Spot 8964.JPG? [y]es, [n]o, [A]ll, [N]one, [r]ename: N\n"
          ],
          "name": "stdout"
        }
      ]
    },
    {
      "cell_type": "markdown",
      "metadata": {
        "id": "qAMZ3TI63bDP"
      },
      "source": [
        ""
      ]
    },
    {
      "cell_type": "code",
      "metadata": {
        "id": "lSqv2wq_avsJ"
      },
      "source": [
        "import numpy as np\n",
        "import pickle\n",
        "import weakref\n",
        "import cv2\n",
        "import os\n",
        "from os import listdir\n",
        "from sklearn.preprocessing import LabelBinarizer\n",
        "from keras.models import Sequential\n",
        "from keras.layers.normalization import BatchNormalization\n",
        "from keras.layers.convolutional import Conv2D\n",
        "from keras.layers.convolutional import MaxPooling2D\n",
        "from keras.layers.core import Activation, Flatten, Dropout, Dense\n",
        "from keras import backend as K\n",
        "from keras.preprocessing.image import ImageDataGenerator\n",
        "from keras.optimizers import Adam\n",
        "from keras.preprocessing import image\n",
        "from keras.preprocessing.image import img_to_array\n",
        "from sklearn.preprocessing import MultiLabelBinarizer\n",
        "from sklearn.model_selection import train_test_split\n",
        "import matplotlib.pyplot as plt"
      ],
      "execution_count": 10,
      "outputs": []
    },
    {
      "cell_type": "code",
      "metadata": {
        "id": "vp5RgA2Ja1j5"
      },
      "source": [
        "EPOCHS = 10\n",
        "INIT_LR = 1e-3\n",
        "BS = 32\n",
        "default_image_size = tuple((100, 100))\n",
        "directory_root = '/content/Data'\n",
        "width=100\n",
        "height=100\n",
        "depth=3\n"
      ],
      "execution_count": 11,
      "outputs": []
    },
    {
      "cell_type": "code",
      "metadata": {
        "colab": {
          "base_uri": "https://localhost:8080/"
        },
        "id": "bDYvnzFRCT-S",
        "outputId": "6ff33b7e-67f4-4588-d9c4-aabb57d77313"
      },
      "source": [
        "image_list, label_list = [], []\n",
        "img_size=100\n",
        "try:\n",
        "    print(\"[INFO] Loading images ...\")\n",
        "    root_dir = listdir(directory_root)\n",
        "    for directory in root_dir :\n",
        "      fp = os.path.join(directory_root,directory)\n",
        "      for eachImage in os.listdir(fp):\n",
        "        imagePath = os.path.join(fp,eachImage)\n",
        "        img = cv2.imread(imagePath)\n",
        "        resized = cv2.resize(img , (img_size , img_size))\n",
        "        image_list.append(resized)\n",
        "        label_list.append(directory)\n",
        "    print(\"[INFO] Image loading completed\")  \n",
        "except Exception as e:\n",
        "    print(f\"Error : {e}\")"
      ],
      "execution_count": 12,
      "outputs": [
        {
          "output_type": "stream",
          "text": [
            "[INFO] Loading images ...\n",
            "[INFO] Image loading completed\n"
          ],
          "name": "stdout"
        }
      ]
    },
    {
      "cell_type": "code",
      "metadata": {
        "id": "TMJcGaUNbN3B"
      },
      "source": [
        "label_binarizer = LabelBinarizer()\n",
        "image_labels = label_binarizer.fit_transform(label_list)\n",
        "pickle.dump(label_binarizer,open('label_transform.pkl', 'wb'))\n",
        "n_classes = len(label_binarizer.classes_)"
      ],
      "execution_count": 13,
      "outputs": []
    },
    {
      "cell_type": "code",
      "metadata": {
        "colab": {
          "base_uri": "https://localhost:8080/"
        },
        "id": "mckZI0v0b3Li",
        "outputId": "169c5db9-08b3-4062-9ed3-a3533110e6fe"
      },
      "source": [
        "np_image_list = np.array(image_list) / 255.0\n",
        "print(\"[INFO] Spliting data to train, test\")\n",
        "x_train, x_test, y_train, y_test = train_test_split(np_image_list, image_labels, test_size=0.2, random_state = 42) \n",
        "# y_train = np.asarray(y_train).astype('float32').reshape((-1,1))"
      ],
      "execution_count": 14,
      "outputs": [
        {
          "output_type": "stream",
          "text": [
            "[INFO] Spliting data to train, test\n"
          ],
          "name": "stdout"
        }
      ]
    },
    {
      "cell_type": "code",
      "metadata": {
        "id": "rdFl5D2ie7gk"
      },
      "source": [
        "model = Sequential()\n",
        "inputShape = (height, width, depth)\n",
        "chanDim = -1\n",
        "if K.image_data_format() == \"channels_first\":\n",
        "    inputShape = (height, width, depth)\n",
        "    chanDim = 1\n",
        "model.add(Conv2D(32, (3, 3), padding=\"same\",input_shape=inputShape))\n",
        "model.add(Activation(\"relu\"))\n",
        "model.add(BatchNormalization(axis=chanDim))\n",
        "model.add(MaxPooling2D(pool_size=(3, 3)))\n",
        "model.add(Dropout(0.25))\n",
        "model.add(Conv2D(64, (3, 3), padding=\"same\"))\n",
        "model.add(Activation(\"relu\"))\n",
        "model.add(BatchNormalization(axis=chanDim))\n",
        "model.add(Conv2D(64, (3, 3), padding=\"same\"))\n",
        "model.add(Activation(\"relu\"))\n",
        "model.add(BatchNormalization(axis=chanDim))\n",
        "model.add(MaxPooling2D(pool_size=(2, 2)))\n",
        "model.add(Dropout(0.25))\n",
        "model.add(Conv2D(128, (3, 3), padding=\"same\"))\n",
        "model.add(Activation(\"relu\"))\n",
        "model.add(BatchNormalization(axis=chanDim))\n",
        "model.add(Conv2D(128, (3, 3), padding=\"same\"))\n",
        "model.add(Activation(\"relu\"))\n",
        "model.add(BatchNormalization(axis=chanDim))\n",
        "model.add(MaxPooling2D(pool_size=(2, 2)))\n",
        "model.add(Dropout(0.25))\n",
        "model.add(Flatten())\n",
        "model.add(Dense(1024))\n",
        "model.add(Activation(\"relu\"))\n",
        "model.add(BatchNormalization())\n",
        "model.add(Dropout(0.5))\n",
        "model.add(Dense(n_classes))\n",
        "model.add(Activation(\"sigmoid\"))\n",
        "# model.summary()"
      ],
      "execution_count": 15,
      "outputs": []
    },
    {
      "cell_type": "code",
      "metadata": {
        "colab": {
          "base_uri": "https://localhost:8080/"
        },
        "id": "fegII_XGNT0y",
        "outputId": "9b79f3e0-f426-42ae-9c72-91d5c70e5f4a"
      },
      "source": [
        "opt = Adam(learning_rate=INIT_LR, decay=INIT_LR / EPOCHS)\n",
        "# distribution\n",
        "model.compile(loss=\"sparse_categorical_crossentropy\", optimizer=opt,metrics=[\"accuracy\"])\n",
        "# train the network\n",
        "print(\"[INFO] training network...\")"
      ],
      "execution_count": 16,
      "outputs": [
        {
          "output_type": "stream",
          "text": [
            "[INFO] training network...\n"
          ],
          "name": "stdout"
        }
      ]
    },
    {
      "cell_type": "code",
      "metadata": {
        "colab": {
          "base_uri": "https://localhost:8080/"
        },
        "id": "L5Ryiu9J0KEZ",
        "outputId": "a34b47be-ddcb-408c-f41b-7d682c1851db"
      },
      "source": [
        "print(x_train.shape,y_train.shape)\n",
        "print(x_test.shape,y_test.shape)\n",
        "print(np_image_list.shape,image_labels.shape)\n"
      ],
      "execution_count": 17,
      "outputs": [
        {
          "output_type": "stream",
          "text": [
            "(1980, 100, 100, 3) (1980, 1)\n",
            "(495, 100, 100, 3) (495, 1)\n",
            "(2475, 100, 100, 3) (2475, 1)\n"
          ],
          "name": "stdout"
        }
      ]
    },
    {
      "cell_type": "code",
      "metadata": {
        "colab": {
          "base_uri": "https://localhost:8080/"
        },
        "id": "LKmayIjqNeir",
        "outputId": "7e6f6053-86be-4725-fc43-f7bf2c3bb621"
      },
      "source": [
        "history = model.fit(\n",
        "    np_image_list, image_labels, 32,\n",
        "    validation_split=0.2,    \n",
        "    epochs=EPOCHS, verbose=1\n",
        "    )"
      ],
      "execution_count": 18,
      "outputs": [
        {
          "output_type": "stream",
          "text": [
            "Epoch 1/10\n",
            "62/62 [==============================] - 42s 44ms/step - loss: 0.8664 - accuracy: 0.7679 - val_loss: 12.0562 - val_accuracy: 0.0000e+00\n",
            "Epoch 2/10\n",
            "62/62 [==============================] - 1s 21ms/step - loss: 0.1553 - accuracy: 0.9499 - val_loss: 4.9061 - val_accuracy: 0.0000e+00\n",
            "Epoch 3/10\n",
            "62/62 [==============================] - 1s 20ms/step - loss: 0.0977 - accuracy: 0.9689 - val_loss: 7.7075 - val_accuracy: 0.0000e+00\n",
            "Epoch 4/10\n",
            "62/62 [==============================] - 1s 21ms/step - loss: 0.0986 - accuracy: 0.9644 - val_loss: 17.5215 - val_accuracy: 0.0000e+00\n",
            "Epoch 5/10\n",
            "62/62 [==============================] - 1s 20ms/step - loss: 0.0711 - accuracy: 0.9791 - val_loss: 6.0879 - val_accuracy: 0.1838\n",
            "Epoch 6/10\n",
            "62/62 [==============================] - 1s 20ms/step - loss: 0.1215 - accuracy: 0.9577 - val_loss: 1.4738 - val_accuracy: 0.4586\n",
            "Epoch 7/10\n",
            "62/62 [==============================] - 1s 19ms/step - loss: 0.0420 - accuracy: 0.9888 - val_loss: 1.8393 - val_accuracy: 0.4727\n",
            "Epoch 8/10\n",
            "62/62 [==============================] - 1s 20ms/step - loss: 0.0692 - accuracy: 0.9810 - val_loss: 0.7544 - val_accuracy: 0.8000\n",
            "Epoch 9/10\n",
            "62/62 [==============================] - 1s 20ms/step - loss: 0.0324 - accuracy: 0.9919 - val_loss: 0.3643 - val_accuracy: 0.8788\n",
            "Epoch 10/10\n",
            "62/62 [==============================] - 1s 20ms/step - loss: 0.0447 - accuracy: 0.9855 - val_loss: 2.4038 - val_accuracy: 0.4909\n"
          ],
          "name": "stdout"
        }
      ]
    }
  ]
}