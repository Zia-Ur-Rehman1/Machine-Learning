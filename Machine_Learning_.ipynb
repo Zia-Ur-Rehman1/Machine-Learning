{
  "nbformat": 4,
  "nbformat_minor": 0,
  "metadata": {
    "colab": {
      "name": "Machine_Learning .ipynb",
      "provenance": [],
      "collapsed_sections": [],
      "authorship_tag": "ABX9TyMnvaghCRHWQ+Qhi2bnz4MR",
      "include_colab_link": true
    },
    "kernelspec": {
      "name": "python3",
      "display_name": "Python 3"
    },
    "language_info": {
      "name": "python"
    },
    "accelerator": "GPU"
  },
  "cells": [
    {
      "cell_type": "markdown",
      "metadata": {
        "id": "view-in-github",
        "colab_type": "text"
      },
      "source": [
        "<a href=\"https://colab.research.google.com/github/Zia-Ur-Rehman1/Machine-Learning/blob/master/Machine_Learning_.ipynb\" target=\"_parent\"><img src=\"https://colab.research.google.com/assets/colab-badge.svg\" alt=\"Open In Colab\"/></a>"
      ]
    },
    {
      "cell_type": "code",
      "metadata": {
        "colab": {
          "base_uri": "https://localhost:8080/"
        },
        "id": "l5KfEqMU3Z0r",
        "outputId": "7f4eb6bb-a15d-4bf0-aa24-13402c170c1e"
      },
      "source": [
        "from google.colab import drive\n",
        "drive.mount('/content/drive', force_remount=True)"
      ],
      "execution_count": 1,
      "outputs": [
        {
          "output_type": "stream",
          "text": [
            "Mounted at /content/drive\n"
          ],
          "name": "stdout"
        }
      ]
    },
    {
      "cell_type": "markdown",
      "metadata": {
        "id": "CON69hfz3c7z"
      },
      "source": [
        ""
      ]
    },
    {
      "cell_type": "code",
      "metadata": {
        "id": "yWr3_0cW9tvb"
      },
      "source": [
        "!unzip \"/content/drive/My Drive/ML/Data.zip\"\n"
      ],
      "execution_count": null,
      "outputs": []
    },
    {
      "cell_type": "markdown",
      "metadata": {
        "id": "qAMZ3TI63bDP"
      },
      "source": [
        ""
      ]
    },
    {
      "cell_type": "code",
      "metadata": {
        "id": "lSqv2wq_avsJ"
      },
      "source": [
        "import numpy as np\n",
        "import pickle\n",
        "import weakref\n",
        "import cv2\n",
        "import os\n",
        "from os import listdir\n",
        "from sklearn.preprocessing import LabelBinarizer\n",
        "from keras.models import Sequential\n",
        "from keras.layers.normalization import BatchNormalization\n",
        "from keras.layers.convolutional import Conv2D\n",
        "from keras.layers.convolutional import MaxPooling2D\n",
        "from keras.layers.core import Activation, Flatten, Dropout, Dense\n",
        "from keras import backend as K\n",
        "from keras.preprocessing.image import ImageDataGenerator\n",
        "from keras.optimizers import Adam\n",
        "from keras.preprocessing import image\n",
        "from keras.preprocessing.image import img_to_array\n",
        "from sklearn.preprocessing import MultiLabelBinarizer\n",
        "from sklearn.model_selection import train_test_split\n",
        "import matplotlib.pyplot as plt"
      ],
      "execution_count": 21,
      "outputs": []
    },
    {
      "cell_type": "code",
      "metadata": {
        "id": "vp5RgA2Ja1j5"
      },
      "source": [
        "EPOCHS =10\n",
        "INIT_LR = 1e-3\n",
        "BS = 32\n",
        "default_image_size = tuple((100, 100))\n",
        "directory_root = '/content/Data'\n",
        "width=100\n",
        "height=100\n",
        "depth=3\n"
      ],
      "execution_count": 22,
      "outputs": []
    },
    {
      "cell_type": "code",
      "metadata": {
        "colab": {
          "base_uri": "https://localhost:8080/"
        },
        "id": "bDYvnzFRCT-S",
        "outputId": "0387556b-d2ec-4cb8-8320-8c2f09bf9ebc"
      },
      "source": [
        "image_list, label_list = [], []\n",
        "img_size=100\n",
        "try:\n",
        "    print(\"[INFO] Loading images ...\")\n",
        "    root_dir = listdir(directory_root)\n",
        "    for directory in root_dir :\n",
        "      fp = os.path.join(directory_root,directory)\n",
        "      for eachImage in os.listdir(fp):\n",
        "        imagePath = os.path.join(fp,eachImage)\n",
        "        img = cv2.imread(imagePath)\n",
        "        resized = cv2.resize(img , (img_size , img_size))\n",
        "        image_list.append(resized)\n",
        "        label_list.append(directory)\n",
        "    print(\"[INFO] Image loading completed\")  \n",
        "except Exception as e:\n",
        "    print(f\"Error : {e}\")"
      ],
      "execution_count": 23,
      "outputs": [
        {
          "output_type": "stream",
          "text": [
            "[INFO] Loading images ...\n",
            "[INFO] Image loading completed\n"
          ],
          "name": "stdout"
        }
      ]
    },
    {
      "cell_type": "markdown",
      "metadata": {
        "id": "lc0oPshg-xOi"
      },
      "source": [
        "# New section"
      ]
    },
    {
      "cell_type": "code",
      "metadata": {
        "id": "TMJcGaUNbN3B"
      },
      "source": [
        "label_binarizer = LabelBinarizer()\n",
        "image_labels = label_binarizer.fit_transform(label_list)\n",
        "pickle.dump(label_binarizer,open('label_transform.pkl', 'wb'))\n",
        "n_classes = len(label_binarizer.classes_)"
      ],
      "execution_count": 24,
      "outputs": []
    },
    {
      "cell_type": "code",
      "metadata": {
        "colab": {
          "base_uri": "https://localhost:8080/"
        },
        "id": "mckZI0v0b3Li",
        "outputId": "9e18a4b4-ec50-41a1-d420-be7aed432269"
      },
      "source": [
        "np_image_list = np.array(image_list) / 255.0\n",
        "print(\"[INFO] Spliting data to train, test\")\n",
        "x_train, x_test, y_train, y_test = train_test_split(np_image_list, image_labels, test_size=0.2, random_state = 42) "
      ],
      "execution_count": 25,
      "outputs": [
        {
          "output_type": "stream",
          "text": [
            "[INFO] Spliting data to train, test\n"
          ],
          "name": "stdout"
        }
      ]
    },
    {
      "cell_type": "code",
      "metadata": {
        "id": "xHxLUgOA3kmx"
      },
      "source": [
        "aug = ImageDataGenerator(\n",
        "    rotation_range=25, width_shift_range=0.1,\n",
        "    height_shift_range=0.1, shear_range=0.2, \n",
        "    zoom_range=0.2,horizontal_flip=True, \n",
        "    fill_mode=\"nearest\")"
      ],
      "execution_count": 7,
      "outputs": []
    },
    {
      "cell_type": "code",
      "metadata": {
        "id": "rdFl5D2ie7gk"
      },
      "source": [
        "# model = Sequential()\n",
        "# inputShape = (height, width, depth)\n",
        "# chanDim = -1\n",
        "# if K.image_data_format() == \"channels_first\":\n",
        "#     inputShape = (height, width, depth)\n",
        "#     chanDim = 1\n",
        "# model.add(Conv2D(40, (3, 3), padding=\"same\",input_shape=inputShape))\n",
        "# model.add(Activation(\"relu\"))\n",
        "# model.add(BatchNormalization(axis=chanDim))\n",
        "# model.add(MaxPooling2D(pool_size=(3, 3)))\n",
        "# model.add(Dropout(0.25))\n",
        "# model.add(Conv2D(64, (3, 3), padding=\"same\"))\n",
        "# model.add(Activation(\"relu\"))\n",
        "# model.add(BatchNormalization(axis=chanDim))\n",
        "# model.add(Conv2D(64, (3, 3), padding=\"same\"))\n",
        "# model.add(Activation(\"relu\"))\n",
        "# model.add(BatchNormalization(axis=chanDim))\n",
        "# model.add(MaxPooling2D(pool_size=(2, 2)))\n",
        "# model.add(Dropout(0.25))\n",
        "# model.add(Conv2D(128, (3, 3), padding=\"same\"))\n",
        "# model.add(Activation(\"relu\"))\n",
        "# model.add(BatchNormalization(axis=chanDim))\n",
        "# model.add(Conv2D(128, (3, 3), padding=\"same\"))\n",
        "# model.add(Activation(\"relu\"))\n",
        "# model.add(BatchNormalization(axis=chanDim))\n",
        "# model.add(MaxPooling2D(pool_size=(2, 2)))\n",
        "# model.add(Dropout(0.25))\n",
        "# model.add(Flatten())\n",
        "# model.add(Dense(200))\n",
        "# model.add(Activation(\"relu\"))\n",
        "# model.add(BatchNormalization())\n",
        "# model.add(Dropout(0.5))\n",
        "# model.add(Dense(n_classes))\n",
        "# model.add(Activation(\"sigmoid\"))\n",
        "# model.summary()"
      ],
      "execution_count": 8,
      "outputs": []
    },
    {
      "cell_type": "code",
      "metadata": {
        "id": "hrbrThKUO1ck"
      },
      "source": [
        "model = Sequential()\n",
        "\n",
        "model.add(Conv2D(80, (3, 3), input_shape=(100,100,3)))\n",
        "model.add(Activation('relu'))\n",
        "model.add(MaxPooling2D(pool_size=(2, 2)))\n",
        "model.add(Dropout(0.3))\n",
        "\n",
        "model.add(Conv2D(160, (3, 3)))\n",
        "model.add(Activation('relu'))\n",
        "model.add(MaxPooling2D(pool_size=(2, 2)))\n",
        "model.add(Dropout(0.3))\n",
        "\n",
        "model.add(Conv2D(160, (3, 3)))\n",
        "model.add(Activation('relu'))\n",
        "model.add(MaxPooling2D(pool_size=(2, 2)))\n",
        "model.add(Dropout(0.3))\n",
        "\n",
        "model.add(Flatten())\n",
        "\n",
        "model.add(Dense(50))\n",
        "model.add(Activation('relu'))\n",
        " \n",
        "model.add(Dense(2))\n",
        "model.add(Activation('softmax'))"
      ],
      "execution_count": 31,
      "outputs": []
    },
    {
      "cell_type": "code",
      "metadata": {
        "colab": {
          "base_uri": "https://localhost:8080/"
        },
        "id": "fegII_XGNT0y",
        "outputId": "84be47fb-6859-4c7f-ca21-b530ca1c8ce6"
      },
      "source": [
        "opt = Adam(learning_rate=INIT_LR, decay=INIT_LR / EPOCHS)\n",
        "# distribution\n",
        "model.compile(loss=\"sparse_categorical_crossentropy\", optimizer=opt,metrics=[\"accuracy\"])\n",
        "# train the network\n",
        "print(\"[INFO] training network...\")"
      ],
      "execution_count": 32,
      "outputs": [
        {
          "output_type": "stream",
          "text": [
            "[INFO] training network...\n"
          ],
          "name": "stdout"
        }
      ]
    },
    {
      "cell_type": "code",
      "metadata": {
        "colab": {
          "base_uri": "https://localhost:8080/"
        },
        "id": "LKmayIjqNeir",
        "outputId": "b0d6120b-9070-4372-eedf-f38b41aa7323"
      },
      "source": [
        "history = model.fit(\n",
        "    np_image_list,image_labels,32,10,1,\n",
        "    validation_data=(x_test, y_test),\n",
        "    )\n"
      ],
      "execution_count": 33,
      "outputs": [
        {
          "output_type": "stream",
          "text": [
            "Epoch 1/10\n",
            "78/78 [==============================] - 5s 47ms/step - loss: 0.6653 - accuracy: 0.6551 - val_loss: 0.3936 - val_accuracy: 0.8727\n",
            "Epoch 2/10\n",
            "78/78 [==============================] - 3s 35ms/step - loss: 0.2966 - accuracy: 0.8796 - val_loss: 0.2455 - val_accuracy: 0.9515\n",
            "Epoch 3/10\n",
            "78/78 [==============================] - 3s 34ms/step - loss: 0.2233 - accuracy: 0.9205 - val_loss: 0.0936 - val_accuracy: 0.9657\n",
            "Epoch 4/10\n",
            "78/78 [==============================] - 3s 35ms/step - loss: 0.1923 - accuracy: 0.9380 - val_loss: 0.1259 - val_accuracy: 0.9677\n",
            "Epoch 5/10\n",
            "78/78 [==============================] - 3s 35ms/step - loss: 0.1437 - accuracy: 0.9565 - val_loss: 0.0597 - val_accuracy: 0.9778\n",
            "Epoch 6/10\n",
            "78/78 [==============================] - 3s 35ms/step - loss: 0.0868 - accuracy: 0.9709 - val_loss: 0.0882 - val_accuracy: 0.9919\n",
            "Epoch 7/10\n",
            "78/78 [==============================] - 3s 35ms/step - loss: 0.0789 - accuracy: 0.9722 - val_loss: 0.0380 - val_accuracy: 0.9919\n",
            "Epoch 8/10\n",
            "78/78 [==============================] - 3s 35ms/step - loss: 0.0600 - accuracy: 0.9802 - val_loss: 0.0295 - val_accuracy: 0.9960\n",
            "Epoch 9/10\n",
            "78/78 [==============================] - 3s 35ms/step - loss: 0.0436 - accuracy: 0.9840 - val_loss: 0.0340 - val_accuracy: 0.9939\n",
            "Epoch 10/10\n",
            "78/78 [==============================] - 3s 35ms/step - loss: 0.0439 - accuracy: 0.9859 - val_loss: 0.0085 - val_accuracy: 0.9980\n"
          ],
          "name": "stdout"
        }
      ]
    },
    {
      "cell_type": "code",
      "metadata": {
        "colab": {
          "base_uri": "https://localhost:8080/",
          "height": 297
        },
        "id": "BZZvMTL54PIT",
        "outputId": "d1d234c7-60eb-4929-bda1-4fd4476ff0f9"
      },
      "source": [
        "plt.figure(1)\n",
        "\n",
        "# summarize history for accuracy\n",
        "\n",
        "plt.subplot(211)\n",
        "plt.plot(history.history['accuracy'])\n",
        "plt.plot(history.history['val_accuracy'])\n",
        "plt.title('Model Accuracy')\n",
        "plt.ylabel('Accuracy')\n",
        "plt.xlabel('Epoch')\n",
        "plt.legend(['Training', 'Validation'], loc='lower right')\n",
        "\n",
        "# summarize history for loss\n",
        "\n",
        "plt.subplot(212)\n",
        "plt.plot(history.history['loss'])\n",
        "plt.plot(history.history['val_loss'])\n",
        "plt.title('Model Loss')\n",
        "plt.ylabel('Loss')\n",
        "plt.xlabel('Epoch')\n",
        "plt.legend(['Training', 'Validation'], loc='upper right')\n",
        "\n",
        "plt.tight_layout()\n",
        "\n",
        "plt.show()"
      ],
      "execution_count": 34,
      "outputs": [
        {
          "output_type": "display_data",
          "data": {
            "image/png": "[encoded data removed]",
            "text/plain": [
              "<Figure size 432x288 with 2 Axes>"
            ]
          },
          "metadata": {
            "tags": [],
            "needs_background": "light"
          }
        }
      ]
    },
    {
      "cell_type": "code",
      "metadata": {
        "colab": {
          "base_uri": "https://localhost:8080/"
        },
        "id": "O5bzQoeF4UkE",
        "outputId": "090b6ab5-5f73-4aab-c5bc-e18b48617aaf"
      },
      "source": [
        "print(\"[INFO] Calculating model accuracy\")\n",
        "scores = model.evaluate(x_test, y_test)\n",
        "print(f\"Test Accuracy: {scores[1]*100}\")"
      ],
      "execution_count": 35,
      "outputs": [
        {
          "output_type": "stream",
          "text": [
            "[INFO] Calculating model accuracy\n",
            "16/16 [==============================] - 0s 12ms/step - loss: 0.0085 - accuracy: 0.9980\n",
            "Test Accuracy: 99.79798197746277\n"
          ],
          "name": "stdout"
        }
      ]
    },
    {
      "cell_type": "code",
      "metadata": {
        "colab": {
          "base_uri": "https://localhost:8080/"
        },
        "id": "45JDr7_645Je",
        "outputId": "3dad4dd8-eeae-443b-e1a8-e4504fe37b7c"
      },
      "source": [
        "# save the model to disk\n",
        "print(\"[INFO] Saving model...\")\n",
        "model.save('/content/drive/MyDrive/ML/CNN_MODEL_Plant.h5')"
      ],
      "execution_count": 36,
      "outputs": [
        {
          "output_type": "stream",
          "text": [
            "[INFO] Saving model...\n"
          ],
          "name": "stdout"
        }
      ]
    }
  ]
}